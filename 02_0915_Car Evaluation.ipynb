{
 "cells": [
  {
   "cell_type": "code",
   "execution_count": 1,
   "id": "c3b79601",
   "metadata": {},
   "outputs": [],
   "source": [
    "import pandas as pd\n",
    "import numpy as np\n",
    "import matplotlib.pyplot as plt\n",
    "import seaborn as sns\n",
    "from sklearn.model_selection import train_test_split\n",
    "from sklearn.preprocessing import StandardScaler"
   ]
  },
  {
   "cell_type": "code",
   "execution_count": 2,
   "id": "72337f6a",
   "metadata": {},
   "outputs": [
    {
     "data": {
      "text/html": [
       "<div>\n",
       "<style scoped>\n",
       "    .dataframe tbody tr th:only-of-type {\n",
       "        vertical-align: middle;\n",
       "    }\n",
       "\n",
       "    .dataframe tbody tr th {\n",
       "        vertical-align: top;\n",
       "    }\n",
       "\n",
       "    .dataframe thead th {\n",
       "        text-align: right;\n",
       "    }\n",
       "</style>\n",
       "<table border=\"1\" class=\"dataframe\">\n",
       "  <thead>\n",
       "    <tr style=\"text-align: right;\">\n",
       "      <th></th>\n",
       "      <th>buying</th>\n",
       "      <th>maint</th>\n",
       "      <th>doors</th>\n",
       "      <th>persons</th>\n",
       "      <th>lug_boot</th>\n",
       "      <th>safety</th>\n",
       "      <th>class</th>\n",
       "    </tr>\n",
       "  </thead>\n",
       "  <tbody>\n",
       "    <tr>\n",
       "      <th>0</th>\n",
       "      <td>vhigh</td>\n",
       "      <td>vhigh</td>\n",
       "      <td>2</td>\n",
       "      <td>2</td>\n",
       "      <td>small</td>\n",
       "      <td>low</td>\n",
       "      <td>unacc</td>\n",
       "    </tr>\n",
       "    <tr>\n",
       "      <th>1</th>\n",
       "      <td>vhigh</td>\n",
       "      <td>vhigh</td>\n",
       "      <td>2</td>\n",
       "      <td>2</td>\n",
       "      <td>small</td>\n",
       "      <td>med</td>\n",
       "      <td>unacc</td>\n",
       "    </tr>\n",
       "    <tr>\n",
       "      <th>2</th>\n",
       "      <td>vhigh</td>\n",
       "      <td>vhigh</td>\n",
       "      <td>2</td>\n",
       "      <td>2</td>\n",
       "      <td>small</td>\n",
       "      <td>high</td>\n",
       "      <td>unacc</td>\n",
       "    </tr>\n",
       "    <tr>\n",
       "      <th>3</th>\n",
       "      <td>vhigh</td>\n",
       "      <td>vhigh</td>\n",
       "      <td>2</td>\n",
       "      <td>2</td>\n",
       "      <td>med</td>\n",
       "      <td>low</td>\n",
       "      <td>unacc</td>\n",
       "    </tr>\n",
       "    <tr>\n",
       "      <th>4</th>\n",
       "      <td>vhigh</td>\n",
       "      <td>vhigh</td>\n",
       "      <td>2</td>\n",
       "      <td>2</td>\n",
       "      <td>med</td>\n",
       "      <td>med</td>\n",
       "      <td>unacc</td>\n",
       "    </tr>\n",
       "  </tbody>\n",
       "</table>\n",
       "</div>"
      ],
      "text/plain": [
       "  buying  maint doors persons lug_boot safety  class\n",
       "0  vhigh  vhigh     2       2    small    low  unacc\n",
       "1  vhigh  vhigh     2       2    small    med  unacc\n",
       "2  vhigh  vhigh     2       2    small   high  unacc\n",
       "3  vhigh  vhigh     2       2      med    low  unacc\n",
       "4  vhigh  vhigh     2       2      med    med  unacc"
      ]
     },
     "execution_count": 2,
     "metadata": {},
     "output_type": "execute_result"
    }
   ],
   "source": [
    "#importing dataset\n",
    "df=pd.read_csv('C:/Users/procns/Desktop/인공지능/Homework/HW_6/car.data', names = ['buying', 'maint','doors','persons','lug_boot','safety','class'])\n",
    "df.head()"
   ]
  },
  {
   "cell_type": "code",
   "execution_count": 3,
   "id": "63104104",
   "metadata": {},
   "outputs": [
    {
     "name": "stdout",
     "output_type": "stream",
     "text": [
      "<class 'pandas.core.frame.DataFrame'>\n",
      "RangeIndex: 1728 entries, 0 to 1727\n",
      "Data columns (total 7 columns):\n",
      " #   Column    Non-Null Count  Dtype \n",
      "---  ------    --------------  ----- \n",
      " 0   buying    1728 non-null   object\n",
      " 1   maint     1728 non-null   object\n",
      " 2   doors     1728 non-null   object\n",
      " 3   persons   1728 non-null   object\n",
      " 4   lug_boot  1728 non-null   object\n",
      " 5   safety    1728 non-null   object\n",
      " 6   class     1728 non-null   object\n",
      "dtypes: object(7)\n",
      "memory usage: 94.6+ KB\n"
     ]
    }
   ],
   "source": [
    "df.info()"
   ]
  },
  {
   "cell_type": "code",
   "execution_count": 4,
   "id": "e9e38daf",
   "metadata": {},
   "outputs": [
    {
     "data": {
      "text/html": [
       "<div>\n",
       "<style scoped>\n",
       "    .dataframe tbody tr th:only-of-type {\n",
       "        vertical-align: middle;\n",
       "    }\n",
       "\n",
       "    .dataframe tbody tr th {\n",
       "        vertical-align: top;\n",
       "    }\n",
       "\n",
       "    .dataframe thead th {\n",
       "        text-align: right;\n",
       "    }\n",
       "</style>\n",
       "<table border=\"1\" class=\"dataframe\">\n",
       "  <thead>\n",
       "    <tr style=\"text-align: right;\">\n",
       "      <th></th>\n",
       "      <th>buying</th>\n",
       "      <th>maint</th>\n",
       "      <th>doors</th>\n",
       "      <th>persons</th>\n",
       "      <th>lug_boot</th>\n",
       "      <th>safety</th>\n",
       "      <th>class</th>\n",
       "    </tr>\n",
       "  </thead>\n",
       "  <tbody>\n",
       "    <tr>\n",
       "      <th>0</th>\n",
       "      <td>3</td>\n",
       "      <td>3</td>\n",
       "      <td>0</td>\n",
       "      <td>0</td>\n",
       "      <td>2</td>\n",
       "      <td>1</td>\n",
       "      <td>2</td>\n",
       "    </tr>\n",
       "    <tr>\n",
       "      <th>1</th>\n",
       "      <td>3</td>\n",
       "      <td>3</td>\n",
       "      <td>0</td>\n",
       "      <td>0</td>\n",
       "      <td>2</td>\n",
       "      <td>2</td>\n",
       "      <td>2</td>\n",
       "    </tr>\n",
       "    <tr>\n",
       "      <th>2</th>\n",
       "      <td>3</td>\n",
       "      <td>3</td>\n",
       "      <td>0</td>\n",
       "      <td>0</td>\n",
       "      <td>2</td>\n",
       "      <td>0</td>\n",
       "      <td>2</td>\n",
       "    </tr>\n",
       "    <tr>\n",
       "      <th>3</th>\n",
       "      <td>3</td>\n",
       "      <td>3</td>\n",
       "      <td>0</td>\n",
       "      <td>0</td>\n",
       "      <td>1</td>\n",
       "      <td>1</td>\n",
       "      <td>2</td>\n",
       "    </tr>\n",
       "    <tr>\n",
       "      <th>4</th>\n",
       "      <td>3</td>\n",
       "      <td>3</td>\n",
       "      <td>0</td>\n",
       "      <td>0</td>\n",
       "      <td>1</td>\n",
       "      <td>2</td>\n",
       "      <td>2</td>\n",
       "    </tr>\n",
       "  </tbody>\n",
       "</table>\n",
       "</div>"
      ],
      "text/plain": [
       "   buying  maint  doors  persons  lug_boot  safety  class\n",
       "0       3      3      0        0         2       1      2\n",
       "1       3      3      0        0         2       2      2\n",
       "2       3      3      0        0         2       0      2\n",
       "3       3      3      0        0         1       1      2\n",
       "4       3      3      0        0         1       2      2"
      ]
     },
     "execution_count": 4,
     "metadata": {},
     "output_type": "execute_result"
    }
   ],
   "source": [
    "from sklearn.preprocessing import LabelEncoder\n",
    "\n",
    "columns = df.columns\n",
    "\n",
    "label = LabelEncoder()\n",
    "for column in columns:\n",
    "    df[column] = label.fit_transform(df[column])\n",
    "\n",
    "df.head()"
   ]
  },
  {
   "cell_type": "code",
   "execution_count": 5,
   "id": "6ae47419",
   "metadata": {},
   "outputs": [
    {
     "data": {
      "text/plain": [
       "Text(0.5, 1.0, 'Label')"
      ]
     },
     "execution_count": 5,
     "metadata": {},
     "output_type": "execute_result"
    },
    {
     "data": {
      "image/png": "[encoded data removed]",
      "text/plain": [
       "<Figure size 640x480 with 1 Axes>"
      ]
     },
     "metadata": {},
     "output_type": "display_data"
    }
   ],
   "source": [
    "sns.countplot(data = df, x=\"class\")\n",
    "plt.xlabel(\"wine_target\")\n",
    "plt.ylabel(\"Count\")\n",
    "plt.title(\"Label\")"
   ]
  },
  {
   "cell_type": "code",
   "execution_count": 6,
   "id": "a741f1c5",
   "metadata": {},
   "outputs": [],
   "source": [
    "df_data = df.drop(['class'], axis = 1)\n",
    "df_labels = df['class']"
   ]
  },
  {
   "cell_type": "code",
   "execution_count": 7,
   "id": "a6eae37f",
   "metadata": {},
   "outputs": [],
   "source": [
    "df_data = df_data.to_numpy()\n",
    "df_labels = pd.get_dummies(df_labels).values"
   ]
  },
  {
   "cell_type": "code",
   "execution_count": 8,
   "id": "68a144d3",
   "metadata": {},
   "outputs": [],
   "source": [
    "X_train, X_test, y_train, y_test  = train_test_split(df_data, df_labels, test_size = 0.2, stratify= df_labels )"
   ]
  },
  {
   "cell_type": "code",
   "execution_count": 9,
   "id": "21b0d2d1",
   "metadata": {},
   "outputs": [],
   "source": [
    "X_train, X_val, y_train, y_val = train_test_split(X_train, y_train, test_size=0.2)"
   ]
  },
  {
   "cell_type": "code",
   "execution_count": 10,
   "id": "eef10015",
   "metadata": {},
   "outputs": [
    {
     "name": "stdout",
     "output_type": "stream",
     "text": [
      "X_train.shape : (1105, 6)\n",
      "y_train.shape : (1105, 4)\n",
      "X_test.shape: (346, 6)\n",
      "y_test.shape: (346, 4)\n"
     ]
    }
   ],
   "source": [
    "print(\"X_train.shape :\", X_train.shape)\n",
    "\n",
    "print(\"y_train.shape :\", y_train.shape)\n",
    "\n",
    "print(\"X_test.shape:\", X_test.shape)\n",
    "\n",
    "print(\"y_test.shape:\", y_test.shape)"
   ]
  },
  {
   "cell_type": "code",
   "execution_count": 16,
   "id": "e2ab293f",
   "metadata": {},
   "outputs": [],
   "source": [
    "input_shape = X_train.shape[1]\n",
    "output_shape = y_train.shape[1]\n",
    "input_shape, output_shape\n",
    "batch_size = 32\n",
    "epochs = 100"
   ]
  },
  {
   "cell_type": "code",
   "execution_count": 11,
   "id": "a8e55772",
   "metadata": {},
   "outputs": [
    {
     "name": "stdout",
     "output_type": "stream",
     "text": [
      "Model: \"model\"\n",
      "_________________________________________________________________\n",
      " Layer (type)                Output Shape              Param #   \n",
      "=================================================================\n",
      " input_1 (InputLayer)        [(None, 6)]               0         \n",
      "                                                                 \n",
      " dense (Dense)               (None, 128)               896       \n",
      "                                                                 \n",
      " dense_1 (Dense)             (None, 64)                8256      \n",
      "                                                                 \n",
      " dense_2 (Dense)             (None, 64)                4160      \n",
      "                                                                 \n",
      " dense_3 (Dense)             (None, 4)                 260       \n",
      "                                                                 \n",
      "=================================================================\n",
      "Total params: 13,572\n",
      "Trainable params: 13,572\n",
      "Non-trainable params: 0\n",
      "_________________________________________________________________\n"
     ]
    }
   ],
   "source": [
    "# Defining the model \n",
    "from keras import Input\n",
    "from keras.models import Model\n",
    "from keras.models import Sequential\n",
    "from keras.layers import Dense\n",
    "from keras.optimizers import SGD, Adam\n",
    "inputs = Input(shape = (6,))\n",
    "\n",
    "x = Dense(128,activation='relu')(inputs)\n",
    "x2 = Dense(64,activation='relu')(x)\n",
    "x3 = Dense(64, activation = 'relu')(x2)\n",
    "outputs = Dense(4, activation = 'softmax')(x3)\n",
    "\n",
    "model = Model(inputs = inputs, outputs = outputs)\n",
    "\n",
    "model.compile('rmsprop',\n",
    "             loss = \"categorical_crossentropy\",metrics=[\"accuracy\"]\n",
    "             )\n",
    "\n",
    "model.summary()"
   ]
  },
  {
   "cell_type": "code",
   "execution_count": 12,
   "id": "27c130b5",
   "metadata": {},
   "outputs": [
    {
     "name": "stdout",
     "output_type": "stream",
     "text": [
      "Epoch 1/100\n",
      "35/35 [==============================] - 1s 11ms/step - loss: 0.8470 - accuracy: 0.6715 - val_loss: 0.6793 - val_accuracy: 0.7292\n",
      "Epoch 2/100\n",
      "35/35 [==============================] - 0s 4ms/step - loss: 0.6959 - accuracy: 0.7068 - val_loss: 0.6256 - val_accuracy: 0.7473\n",
      "Epoch 3/100\n",
      "35/35 [==============================] - 0s 4ms/step - loss: 0.6188 - accuracy: 0.7484 - val_loss: 0.5639 - val_accuracy: 0.7653\n",
      "Epoch 4/100\n",
      "35/35 [==============================] - 0s 4ms/step - loss: 0.5553 - accuracy: 0.7747 - val_loss: 0.4965 - val_accuracy: 0.7762\n",
      "Epoch 5/100\n",
      "35/35 [==============================] - 0s 3ms/step - loss: 0.4941 - accuracy: 0.7928 - val_loss: 0.4784 - val_accuracy: 0.8231\n",
      "Epoch 6/100\n",
      "35/35 [==============================] - 0s 3ms/step - loss: 0.4377 - accuracy: 0.8154 - val_loss: 0.3988 - val_accuracy: 0.8159\n",
      "Epoch 7/100\n",
      "35/35 [==============================] - 0s 3ms/step - loss: 0.4040 - accuracy: 0.8262 - val_loss: 0.4206 - val_accuracy: 0.8412\n",
      "Epoch 8/100\n",
      "35/35 [==============================] - 0s 4ms/step - loss: 0.3652 - accuracy: 0.8462 - val_loss: 0.3455 - val_accuracy: 0.8736\n",
      "Epoch 9/100\n",
      "35/35 [==============================] - 0s 5ms/step - loss: 0.3406 - accuracy: 0.8570 - val_loss: 0.3338 - val_accuracy: 0.8700\n",
      "Epoch 10/100\n",
      "35/35 [==============================] - 0s 4ms/step - loss: 0.3190 - accuracy: 0.8679 - val_loss: 0.2895 - val_accuracy: 0.8917\n",
      "Epoch 11/100\n",
      "35/35 [==============================] - 0s 4ms/step - loss: 0.2950 - accuracy: 0.8724 - val_loss: 0.2712 - val_accuracy: 0.8736\n",
      "Epoch 12/100\n",
      "35/35 [==============================] - 0s 3ms/step - loss: 0.2757 - accuracy: 0.8796 - val_loss: 0.2835 - val_accuracy: 0.8736\n",
      "Epoch 13/100\n",
      "35/35 [==============================] - 0s 4ms/step - loss: 0.2572 - accuracy: 0.8887 - val_loss: 0.2511 - val_accuracy: 0.8881\n",
      "Epoch 14/100\n",
      "35/35 [==============================] - 0s 3ms/step - loss: 0.2342 - accuracy: 0.8995 - val_loss: 0.2486 - val_accuracy: 0.8664\n",
      "Epoch 15/100\n",
      "35/35 [==============================] - 0s 4ms/step - loss: 0.2218 - accuracy: 0.9086 - val_loss: 0.2348 - val_accuracy: 0.9134\n",
      "Epoch 16/100\n",
      "35/35 [==============================] - 0s 4ms/step - loss: 0.2076 - accuracy: 0.9077 - val_loss: 0.2295 - val_accuracy: 0.8881\n",
      "Epoch 17/100\n",
      "35/35 [==============================] - 0s 4ms/step - loss: 0.1892 - accuracy: 0.9285 - val_loss: 0.1811 - val_accuracy: 0.9206\n",
      "Epoch 18/100\n",
      "35/35 [==============================] - 0s 3ms/step - loss: 0.1824 - accuracy: 0.9339 - val_loss: 0.2392 - val_accuracy: 0.8845\n",
      "Epoch 19/100\n",
      "35/35 [==============================] - 0s 4ms/step - loss: 0.1738 - accuracy: 0.9321 - val_loss: 0.2043 - val_accuracy: 0.9170\n",
      "Epoch 20/100\n",
      "35/35 [==============================] - 0s 3ms/step - loss: 0.1517 - accuracy: 0.9439 - val_loss: 0.1878 - val_accuracy: 0.9134\n",
      "Epoch 21/100\n",
      "35/35 [==============================] - 0s 4ms/step - loss: 0.1509 - accuracy: 0.9439 - val_loss: 0.1561 - val_accuracy: 0.9495\n",
      "Epoch 22/100\n",
      "35/35 [==============================] - 0s 3ms/step - loss: 0.1459 - accuracy: 0.9448 - val_loss: 0.1878 - val_accuracy: 0.9386\n",
      "Epoch 23/100\n",
      "35/35 [==============================] - 0s 3ms/step - loss: 0.1394 - accuracy: 0.9502 - val_loss: 0.2339 - val_accuracy: 0.8520\n",
      "Epoch 24/100\n",
      "35/35 [==============================] - 0s 3ms/step - loss: 0.1363 - accuracy: 0.9511 - val_loss: 0.1434 - val_accuracy: 0.9603\n",
      "Epoch 25/100\n",
      "35/35 [==============================] - 0s 3ms/step - loss: 0.1230 - accuracy: 0.9593 - val_loss: 0.2570 - val_accuracy: 0.9134\n",
      "Epoch 26/100\n",
      "35/35 [==============================] - 0s 3ms/step - loss: 0.1130 - accuracy: 0.9584 - val_loss: 0.1356 - val_accuracy: 0.9386\n",
      "Epoch 27/100\n",
      "35/35 [==============================] - 0s 3ms/step - loss: 0.1070 - accuracy: 0.9647 - val_loss: 0.1184 - val_accuracy: 0.9639\n",
      "Epoch 28/100\n",
      "35/35 [==============================] - 0s 3ms/step - loss: 0.1047 - accuracy: 0.9620 - val_loss: 0.1188 - val_accuracy: 0.9603\n",
      "Epoch 29/100\n",
      "35/35 [==============================] - 0s 4ms/step - loss: 0.0987 - accuracy: 0.9638 - val_loss: 0.1224 - val_accuracy: 0.9603\n",
      "Epoch 30/100\n",
      "35/35 [==============================] - 0s 5ms/step - loss: 0.1032 - accuracy: 0.9692 - val_loss: 0.1113 - val_accuracy: 0.9711\n",
      "Epoch 31/100\n",
      "35/35 [==============================] - 0s 4ms/step - loss: 0.0920 - accuracy: 0.9674 - val_loss: 0.1510 - val_accuracy: 0.9567\n",
      "Epoch 32/100\n",
      "35/35 [==============================] - 0s 3ms/step - loss: 0.0864 - accuracy: 0.9719 - val_loss: 0.2592 - val_accuracy: 0.9170\n",
      "Epoch 33/100\n",
      "35/35 [==============================] - 0s 4ms/step - loss: 0.0842 - accuracy: 0.9738 - val_loss: 0.1133 - val_accuracy: 0.9639\n",
      "Epoch 34/100\n",
      "35/35 [==============================] - 0s 4ms/step - loss: 0.0820 - accuracy: 0.9719 - val_loss: 0.1154 - val_accuracy: 0.9458\n",
      "Epoch 35/100\n",
      "35/35 [==============================] - 0s 3ms/step - loss: 0.0797 - accuracy: 0.9738 - val_loss: 0.0923 - val_accuracy: 0.9711\n",
      "Epoch 36/100\n",
      "35/35 [==============================] - 0s 4ms/step - loss: 0.0664 - accuracy: 0.9828 - val_loss: 0.1331 - val_accuracy: 0.9458\n",
      "Epoch 37/100\n",
      "35/35 [==============================] - 0s 3ms/step - loss: 0.0685 - accuracy: 0.9783 - val_loss: 0.0869 - val_accuracy: 0.9783\n",
      "Epoch 38/100\n",
      "35/35 [==============================] - 0s 3ms/step - loss: 0.0681 - accuracy: 0.9783 - val_loss: 0.0929 - val_accuracy: 0.9747\n",
      "Epoch 39/100\n",
      "35/35 [==============================] - 0s 4ms/step - loss: 0.0649 - accuracy: 0.9765 - val_loss: 0.0856 - val_accuracy: 0.9747\n",
      "Epoch 40/100\n",
      "35/35 [==============================] - 0s 3ms/step - loss: 0.0541 - accuracy: 0.9846 - val_loss: 0.1627 - val_accuracy: 0.9495\n",
      "Epoch 41/100\n",
      "35/35 [==============================] - 0s 4ms/step - loss: 0.0574 - accuracy: 0.9873 - val_loss: 0.1115 - val_accuracy: 0.9531\n",
      "Epoch 42/100\n",
      "35/35 [==============================] - 0s 3ms/step - loss: 0.0538 - accuracy: 0.9846 - val_loss: 0.1024 - val_accuracy: 0.9711\n",
      "Epoch 43/100\n",
      "35/35 [==============================] - 0s 3ms/step - loss: 0.0567 - accuracy: 0.9828 - val_loss: 0.0716 - val_accuracy: 0.9675\n",
      "Epoch 44/100\n",
      "35/35 [==============================] - 0s 3ms/step - loss: 0.0469 - accuracy: 0.9846 - val_loss: 0.1179 - val_accuracy: 0.9567\n",
      "Epoch 45/100\n",
      "35/35 [==============================] - 0s 3ms/step - loss: 0.0562 - accuracy: 0.9765 - val_loss: 0.0795 - val_accuracy: 0.9675\n",
      "Epoch 46/100\n",
      "35/35 [==============================] - 0s 4ms/step - loss: 0.0404 - accuracy: 0.9910 - val_loss: 0.0673 - val_accuracy: 0.9856\n",
      "Epoch 47/100\n",
      "35/35 [==============================] - 0s 3ms/step - loss: 0.0447 - accuracy: 0.9891 - val_loss: 0.1786 - val_accuracy: 0.9422\n",
      "Epoch 48/100\n",
      "35/35 [==============================] - 0s 3ms/step - loss: 0.0357 - accuracy: 0.9919 - val_loss: 0.1035 - val_accuracy: 0.9639\n",
      "Epoch 49/100\n",
      "35/35 [==============================] - 0s 3ms/step - loss: 0.0396 - accuracy: 0.9882 - val_loss: 0.0822 - val_accuracy: 0.9819\n",
      "Epoch 50/100\n",
      "35/35 [==============================] - 0s 4ms/step - loss: 0.0338 - accuracy: 0.9937 - val_loss: 0.0621 - val_accuracy: 0.9783\n",
      "Epoch 51/100\n",
      "35/35 [==============================] - 0s 3ms/step - loss: 0.0342 - accuracy: 0.9928 - val_loss: 0.1550 - val_accuracy: 0.9495\n",
      "Epoch 52/100\n",
      "35/35 [==============================] - 0s 4ms/step - loss: 0.0273 - accuracy: 0.9937 - val_loss: 0.1456 - val_accuracy: 0.9314\n",
      "Epoch 53/100\n",
      "35/35 [==============================] - 0s 5ms/step - loss: 0.0355 - accuracy: 0.9900 - val_loss: 0.1941 - val_accuracy: 0.9422\n",
      "Epoch 54/100\n",
      "35/35 [==============================] - 0s 4ms/step - loss: 0.0360 - accuracy: 0.9900 - val_loss: 0.0727 - val_accuracy: 0.9711\n",
      "Epoch 55/100\n",
      "35/35 [==============================] - 0s 3ms/step - loss: 0.0327 - accuracy: 0.9919 - val_loss: 0.0585 - val_accuracy: 0.9711\n",
      "Epoch 56/100\n",
      "35/35 [==============================] - 0s 3ms/step - loss: 0.0222 - accuracy: 0.9973 - val_loss: 0.0674 - val_accuracy: 0.9675\n",
      "Epoch 57/100\n",
      "35/35 [==============================] - 0s 4ms/step - loss: 0.0392 - accuracy: 0.9910 - val_loss: 0.0750 - val_accuracy: 0.9675\n",
      "Epoch 58/100\n",
      "35/35 [==============================] - 0s 3ms/step - loss: 0.0217 - accuracy: 0.9946 - val_loss: 0.0511 - val_accuracy: 0.9819\n"
     ]
    },
    {
     "name": "stdout",
     "output_type": "stream",
     "text": [
      "Epoch 59/100\n",
      "35/35 [==============================] - 0s 4ms/step - loss: 0.0263 - accuracy: 0.9928 - val_loss: 0.2114 - val_accuracy: 0.9278\n",
      "Epoch 60/100\n",
      "35/35 [==============================] - 0s 3ms/step - loss: 0.0297 - accuracy: 0.9891 - val_loss: 0.0759 - val_accuracy: 0.9783\n",
      "Epoch 61/100\n",
      "35/35 [==============================] - 0s 4ms/step - loss: 0.0373 - accuracy: 0.9910 - val_loss: 0.0560 - val_accuracy: 0.9819\n",
      "Epoch 62/100\n",
      "35/35 [==============================] - 0s 3ms/step - loss: 0.0148 - accuracy: 0.9973 - val_loss: 0.1711 - val_accuracy: 0.9386\n",
      "Epoch 63/100\n",
      "35/35 [==============================] - 0s 5ms/step - loss: 0.0308 - accuracy: 0.9910 - val_loss: 0.1338 - val_accuracy: 0.9567\n",
      "Epoch 64/100\n",
      "35/35 [==============================] - 0s 4ms/step - loss: 0.0226 - accuracy: 0.9955 - val_loss: 0.0832 - val_accuracy: 0.9711\n",
      "Epoch 65/100\n",
      "35/35 [==============================] - 0s 3ms/step - loss: 0.0205 - accuracy: 0.9937 - val_loss: 0.0709 - val_accuracy: 0.9819\n",
      "Epoch 66/100\n",
      "35/35 [==============================] - 0s 3ms/step - loss: 0.0184 - accuracy: 0.9946 - val_loss: 0.0331 - val_accuracy: 0.9892\n",
      "Epoch 67/100\n",
      "35/35 [==============================] - 0s 3ms/step - loss: 0.0252 - accuracy: 0.9919 - val_loss: 0.0645 - val_accuracy: 0.9747\n",
      "Epoch 68/100\n",
      "35/35 [==============================] - 0s 3ms/step - loss: 0.0121 - accuracy: 0.9964 - val_loss: 0.0962 - val_accuracy: 0.9675\n",
      "Epoch 69/100\n",
      "35/35 [==============================] - 0s 3ms/step - loss: 0.0216 - accuracy: 0.9946 - val_loss: 0.0466 - val_accuracy: 0.9819\n",
      "Epoch 70/100\n",
      "35/35 [==============================] - 0s 3ms/step - loss: 0.0171 - accuracy: 0.9946 - val_loss: 0.0694 - val_accuracy: 0.9783\n",
      "Epoch 71/100\n",
      "35/35 [==============================] - 0s 3ms/step - loss: 0.0143 - accuracy: 0.9973 - val_loss: 0.0462 - val_accuracy: 0.9819\n",
      "Epoch 72/100\n",
      "35/35 [==============================] - 0s 3ms/step - loss: 0.0186 - accuracy: 0.9955 - val_loss: 0.0674 - val_accuracy: 0.9819\n",
      "Epoch 73/100\n",
      "35/35 [==============================] - 0s 4ms/step - loss: 0.0175 - accuracy: 0.9955 - val_loss: 0.0476 - val_accuracy: 0.9783\n",
      "Epoch 74/100\n",
      "35/35 [==============================] - 0s 3ms/step - loss: 0.0179 - accuracy: 0.9955 - val_loss: 0.0560 - val_accuracy: 0.9819\n",
      "Epoch 75/100\n",
      "35/35 [==============================] - 0s 3ms/step - loss: 0.0116 - accuracy: 0.9973 - val_loss: 0.0857 - val_accuracy: 0.9747\n",
      "Epoch 76/100\n",
      "35/35 [==============================] - 0s 3ms/step - loss: 0.0087 - accuracy: 0.9991 - val_loss: 0.0752 - val_accuracy: 0.9819\n",
      "Epoch 77/100\n",
      "35/35 [==============================] - 0s 4ms/step - loss: 0.0179 - accuracy: 0.9928 - val_loss: 0.0543 - val_accuracy: 0.9783\n",
      "Epoch 78/100\n",
      "35/35 [==============================] - 0s 4ms/step - loss: 0.0116 - accuracy: 0.9964 - val_loss: 0.0678 - val_accuracy: 0.9783\n",
      "Epoch 79/100\n",
      "35/35 [==============================] - 0s 5ms/step - loss: 0.0073 - accuracy: 0.9982 - val_loss: 0.1608 - val_accuracy: 0.9458\n",
      "Epoch 80/100\n",
      "35/35 [==============================] - 0s 4ms/step - loss: 0.0184 - accuracy: 0.9955 - val_loss: 0.0708 - val_accuracy: 0.9819\n",
      "Epoch 81/100\n",
      "35/35 [==============================] - 0s 3ms/step - loss: 0.0085 - accuracy: 0.9982 - val_loss: 0.0389 - val_accuracy: 0.9928\n",
      "Epoch 82/100\n",
      "35/35 [==============================] - 0s 3ms/step - loss: 0.0103 - accuracy: 0.9973 - val_loss: 0.0538 - val_accuracy: 0.9819\n",
      "Epoch 83/100\n",
      "35/35 [==============================] - 0s 5ms/step - loss: 0.0070 - accuracy: 0.9991 - val_loss: 0.0930 - val_accuracy: 0.9783\n",
      "Epoch 84/100\n",
      "35/35 [==============================] - 0s 3ms/step - loss: 0.0149 - accuracy: 0.9973 - val_loss: 0.0732 - val_accuracy: 0.9783\n",
      "Epoch 85/100\n",
      "35/35 [==============================] - 0s 4ms/step - loss: 0.0169 - accuracy: 0.9946 - val_loss: 0.0617 - val_accuracy: 0.9819\n",
      "Epoch 86/100\n",
      "35/35 [==============================] - 0s 3ms/step - loss: 0.0083 - accuracy: 0.9982 - val_loss: 0.0523 - val_accuracy: 0.9856\n",
      "Epoch 87/100\n",
      "35/35 [==============================] - 0s 3ms/step - loss: 0.0055 - accuracy: 0.9982 - val_loss: 0.1297 - val_accuracy: 0.9711\n",
      "Epoch 88/100\n",
      "35/35 [==============================] - 0s 3ms/step - loss: 0.0098 - accuracy: 0.9964 - val_loss: 0.0625 - val_accuracy: 0.9783\n",
      "Epoch 89/100\n",
      "35/35 [==============================] - 0s 3ms/step - loss: 0.0084 - accuracy: 0.9973 - val_loss: 0.0439 - val_accuracy: 0.9856\n",
      "Epoch 90/100\n",
      "35/35 [==============================] - 0s 3ms/step - loss: 0.0071 - accuracy: 0.9991 - val_loss: 0.0319 - val_accuracy: 0.9856\n",
      "Epoch 91/100\n",
      "35/35 [==============================] - 0s 4ms/step - loss: 0.0070 - accuracy: 0.9991 - val_loss: 0.0865 - val_accuracy: 0.9747\n",
      "Epoch 92/100\n",
      "35/35 [==============================] - 0s 4ms/step - loss: 0.0178 - accuracy: 0.9955 - val_loss: 0.0524 - val_accuracy: 0.9856\n",
      "Epoch 93/100\n",
      "35/35 [==============================] - 0s 4ms/step - loss: 0.0018 - accuracy: 1.0000 - val_loss: 0.1037 - val_accuracy: 0.9639\n",
      "Epoch 94/100\n",
      "35/35 [==============================] - 0s 3ms/step - loss: 0.0123 - accuracy: 0.9955 - val_loss: 0.0414 - val_accuracy: 0.9856\n",
      "Epoch 95/100\n",
      "35/35 [==============================] - 0s 4ms/step - loss: 0.0054 - accuracy: 0.9973 - val_loss: 0.1046 - val_accuracy: 0.9711\n",
      "Epoch 96/100\n",
      "35/35 [==============================] - 0s 3ms/step - loss: 0.0037 - accuracy: 1.0000 - val_loss: 0.0733 - val_accuracy: 0.9819\n",
      "Epoch 97/100\n",
      "35/35 [==============================] - 0s 3ms/step - loss: 0.0054 - accuracy: 0.9982 - val_loss: 0.0298 - val_accuracy: 0.9892\n",
      "Epoch 98/100\n",
      "35/35 [==============================] - 0s 3ms/step - loss: 0.0091 - accuracy: 0.9964 - val_loss: 0.0558 - val_accuracy: 0.9856\n",
      "Epoch 99/100\n",
      "35/35 [==============================] - 0s 3ms/step - loss: 0.0055 - accuracy: 0.9982 - val_loss: 0.0431 - val_accuracy: 0.9892\n",
      "Epoch 100/100\n",
      "35/35 [==============================] - 0s 3ms/step - loss: 0.0100 - accuracy: 0.9964 - val_loss: 0.0897 - val_accuracy: 0.9747\n"
     ]
    }
   ],
   "source": [
    "#fitting the model and predicting \n",
    "# fit network\n",
    "history=model.fit(x=X_train, y=y_train, epochs= 100, batch_size=32,validation_data= (X_val,y_val))"
   ]
  },
  {
   "cell_type": "code",
   "execution_count": 13,
   "id": "25e85e10",
   "metadata": {},
   "outputs": [
    {
     "data": {
      "image/png": "[encoded data removed]",
      "text/plain": [
       "<Figure size 640x480 with 1 Axes>"
      ]
     },
     "metadata": {},
     "output_type": "display_data"
    }
   ],
   "source": [
    "history_dict = history.history\n",
    "loss = history_dict['loss']\n",
    "import matplotlib.pyplot as plt\n",
    "history_dict = history.history\n",
    "loss_values = history_dict['loss'] \n",
    "val_loss_values = history_dict['val_loss']\n",
    "epochs = range(1, len(loss) + 1)\n",
    "plt.plot(epochs, loss_values, 'bo', label='Training loss') \n",
    "plt.plot(epochs, val_loss_values, 'r', label='Validation loss')\n",
    "plt.title('Training and validation loss') \n",
    "plt.xlabel('Epochs')\n",
    "plt.ylabel('Loss') \n",
    "plt.legend()\n",
    "plt.show()"
   ]
  },
  {
   "cell_type": "code",
   "execution_count": 14,
   "id": "45fa33f1",
   "metadata": {},
   "outputs": [
    {
     "data": {
      "image/png": "[encoded data removed]",
      "text/plain": [
       "<Figure size 640x480 with 1 Axes>"
      ]
     },
     "metadata": {},
     "output_type": "display_data"
    }
   ],
   "source": [
    "acc = history.history['accuracy']\n",
    "val_acc = history.history['val_accuracy']\n",
    "plt.plot(epochs, acc, 'bo', label='Training acc')\n",
    "plt.plot(epochs, val_acc, 'r', label='Validation acc')\n",
    "plt.title('Training and validation accuracy')\n",
    "plt.xlabel('Epochs')\n",
    "plt.ylabel('Accuracy')\n",
    "plt.legend()\n",
    "plt.show()"
   ]
  },
  {
   "cell_type": "code",
   "execution_count": 17,
   "id": "5c6e24cc",
   "metadata": {},
   "outputs": [
    {
     "name": "stdout",
     "output_type": "stream",
     "text": [
      "11/11 [==============================] - 0s 1ms/step - loss: 0.0799 - accuracy: 0.9769\n",
      "Accuracy >97.687858\n",
      "Base Loss >0.08\n"
     ]
    }
   ],
   "source": [
    "base_loss,base_accuracy=model.evaluate(X_test,y_test,batch_size = batch_size,verbose=1)\n",
    "\n",
    "#cnn_file='CNN_Model.h5'\n",
    "#tf.keras.models.save_model(model, cnn_file, include_optimizer=False)\n",
    "#print('model saved at ', cnn_file)\n",
    "#score,keras_file=evaluate_model(trainX,trainy,testX,testy)\n",
    "score=base_accuracy*100\n",
    "print('Accuracy >{:f}'.format(score))\n",
    "print('Base Loss >{:.2f}'.format(base_loss))"
   ]
  },
  {
   "cell_type": "code",
   "execution_count": 18,
   "id": "9ca2b03e",
   "metadata": {},
   "outputs": [
    {
     "name": "stdout",
     "output_type": "stream",
     "text": [
      "11/11 [==============================] - 0s 3ms/step\n"
     ]
    },
    {
     "ename": "NameError",
     "evalue": "name 'confusion_matrix' is not defined",
     "output_type": "error",
     "traceback": [
      "\u001b[1;31m---------------------------------------------------------------------------\u001b[0m",
      "\u001b[1;31mNameError\u001b[0m                                 Traceback (most recent call last)",
      "Cell \u001b[1;32mIn[18], line 8\u001b[0m\n\u001b[0;32m      4\u001b[0m y_pred \u001b[38;5;241m=\u001b[39m np\u001b[38;5;241m.\u001b[39margmax(pred_cnn, axis\u001b[38;5;241m=\u001b[39m\u001b[38;5;241m1\u001b[39m)\n\u001b[0;32m      5\u001b[0m \u001b[38;5;66;03m#y_pred = [0] * len(pred_cnn)\u001b[39;00m\n\u001b[0;32m      6\u001b[0m \u001b[38;5;66;03m#for i in range(len(pred_cnn)):\u001b[39;00m\n\u001b[0;32m      7\u001b[0m \u001b[38;5;66;03m#    y_pred[i] = np.argmax(pred_cnn[i])\u001b[39;00m\n\u001b[1;32m----> 8\u001b[0m cm_cnn \u001b[38;5;241m=\u001b[39m \u001b[43mconfusion_matrix\u001b[49m(y_true, y_pred)\n\u001b[0;32m      9\u001b[0m sns\u001b[38;5;241m.\u001b[39mheatmap(cm_cnn,cbar\u001b[38;5;241m=\u001b[39m\u001b[38;5;28;01mFalse\u001b[39;00m,annot\u001b[38;5;241m=\u001b[39m\u001b[38;5;28;01mTrue\u001b[39;00m,cmap\u001b[38;5;241m=\u001b[39m\u001b[38;5;124m\"\u001b[39m\u001b[38;5;124mGreens\u001b[39m\u001b[38;5;124m\"\u001b[39m,fmt\u001b[38;5;241m=\u001b[39m\u001b[38;5;124m\"\u001b[39m\u001b[38;5;124md\u001b[39m\u001b[38;5;124m\"\u001b[39m)\n",
      "\u001b[1;31mNameError\u001b[0m: name 'confusion_matrix' is not defined"
     ]
    }
   ],
   "source": [
    "pred_cnn = model.predict(X_test)\n",
    "len(pred_cnn)\n",
    "y_true = np.argmax(y_test, axis = 1)\n",
    "y_pred = np.argmax(pred_cnn, axis=1)\n",
    "#y_pred = [0] * len(pred_cnn)\n",
    "#for i in range(len(pred_cnn)):\n",
    "#    y_pred[i] = np.argmax(pred_cnn[i])\n",
    "cm_cnn = confusion_matrix(y_true, y_pred)\n",
    "sns.heatmap(cm_cnn,cbar=False,annot=True,cmap=\"Greens\",fmt=\"d\")    "
   ]
  },
  {
   "cell_type": "code",
   "execution_count": null,
   "id": "748add18",
   "metadata": {},
   "outputs": [],
   "source": []
  }
 ],
 "metadata": {
  "kernelspec": {
   "display_name": "Python 3 (ipykernel)",
   "language": "python",
   "name": "python3"
  },
  "language_info": {
   "codemirror_mode": {
    "name": "ipython",
    "version": 3
   },
   "file_extension": ".py",
   "mimetype": "text/x-python",
   "name": "python",
   "nbconvert_exporter": "python",
   "pygments_lexer": "ipython3",
   "version": "3.9.16"
  }
 },
 "nbformat": 4,
 "nbformat_minor": 5
}
